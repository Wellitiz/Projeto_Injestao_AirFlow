{
 "cells": [
  {
   "cell_type": "markdown",
   "metadata": {},
   "source": [
    "## **Instalando API**\n",
    "\n",
    "Primeiro é necessario fazer a instalação da API Polygon"
   ]
  },
  {
   "cell_type": "code",
   "execution_count": null,
   "metadata": {},
   "outputs": [],
   "source": [
    "pip install polygon-api-client"
   ]
  },
  {
   "cell_type": "markdown",
   "metadata": {},
   "source": [
    "### **Solicitação de API_Key**"
   ]
  },
  {
   "cell_type": "code",
   "execution_count": null,
   "metadata": {},
   "outputs": [],
   "source": [
    "import polygon\n",
    "\n",
    "api_key = input(\"Digite sua API_Key: \")\n",
    "client = polygon.RESTClient(api_key)"
   ]
  },
  {
   "cell_type": "markdown",
   "metadata": {},
   "source": [
    "### **Coletar dados Apple e salvar em DataFrame**"
   ]
  },
  {
   "cell_type": "code",
   "execution_count": null,
   "metadata": {},
   "outputs": [],
   "source": [
    "import requests\n",
    "import pandas as pd\n",
    "from datetime import datetime, timedelta\n",
    "\n",
    "# Defina o símbolo da ação\n",
    "symbol = \"AAPL\"\n",
    "\n",
    "# Defina o intervalo de datas para 01/01/2022 a 31/12/2023\n",
    "start_date = \"2022-01-01\"\n",
    "end_date = \"2023-12-31\"\n",
    "\n",
    "# Construa a URL com os parâmetros\n",
    "base_url = \"https://api.polygon.io/v2/aggs/ticker\"\n",
    "url = f\"{base_url}/{symbol}/range/1/day/{start_date}/{end_date}?apiKey={api_key}\"\n",
    "\n",
    "# Faça a solicitação GET para obter os dados\n",
    "response = requests.get(url)\n",
    "\n",
    "# Verifique se a solicitação foi bem-sucedida (código de status 200)\n",
    "if response.status_code == 200:\n",
    "    # Converta os dados em um DataFrame do Pandas\n",
    "    dados = response.json()\n",
    "    df_apple = pd.DataFrame(dados['results'])\n",
    "    \n",
    "    # Imprima o DataFrame\n",
    "    print(df_apple)\n",
    "else:\n",
    "    print(f\"Erro na solicitação: {response.status_code}\")\n"
   ]
  },
  {
   "cell_type": "markdown",
   "metadata": {},
   "source": [
    "### **Coletar dados Microsoft e salvar em DataFrame**"
   ]
  },
  {
   "cell_type": "code",
   "execution_count": null,
   "metadata": {},
   "outputs": [],
   "source": [
    "import requests\n",
    "import pandas as pd\n",
    "from datetime import datetime, timedelta\n",
    "\n",
    "# Defina o símbolo da ação (Microsoft - MSFT)\n",
    "symbol = \"MSFT\"\n",
    "\n",
    "# Defina o intervalo de datas para 01/01/2022 a 31/12/2023\n",
    "start_date = \"2022-01-01\"\n",
    "end_date = \"2023-12-31\"\n",
    "\n",
    "# Construa a URL com os parâmetros\n",
    "base_url = \"https://api.polygon.io/v2/aggs/ticker\"\n",
    "url = f\"{base_url}/{symbol}/range/1/day/{start_date}/{end_date}?apiKey={api_key}\"\n",
    "\n",
    "# Faça a solicitação GET para obter os dados\n",
    "response = requests.get(url)\n",
    "\n",
    "# Verifique se a solicitação foi bem-sucedida (código de status 200)\n",
    "if response.status_code == 200:\n",
    "    # Converta os dados em um DataFrame do Pandas\n",
    "    dados = response.json()\n",
    "    df_microsoft = pd.DataFrame(dados['results'])\n",
    "    \n",
    "    # Imprima o DataFrame\n",
    "    print(df_microsoft)\n",
    "else:\n",
    "    print(f\"Erro na solicitação: {response.status_code}\")\n"
   ]
  },
  {
   "cell_type": "markdown",
   "metadata": {},
   "source": [
    "### **Coletar dados Amazon e salvar em DataFrame**"
   ]
  },
  {
   "cell_type": "code",
   "execution_count": null,
   "metadata": {},
   "outputs": [],
   "source": [
    "import requests\n",
    "import pandas as pd\n",
    "from datetime import datetime, timedelta\n",
    "\n",
    "# Defina o símbolo da ação (Amazon - AMZN)\n",
    "symbol = \"AMZN\"\n",
    "\n",
    "# Defina o intervalo de datas para 01/01/2022 a 31/12/2023\n",
    "start_date = \"2022-01-01\"\n",
    "end_date = \"2023-12-31\"\n",
    "\n",
    "# Construa a URL com os parâmetros\n",
    "base_url = \"https://api.polygon.io/v2/aggs/ticker\"\n",
    "url = f\"{base_url}/{symbol}/range/1/day/{start_date}/{end_date}?apiKey={api_key}\"\n",
    "\n",
    "# Faça a solicitação GET para obter os dados\n",
    "response = requests.get(url)\n",
    "\n",
    "# Verifique se a solicitação foi bem-sucedida (código de status 200)\n",
    "if response.status_code == 200:\n",
    "    # Converta os dados em um DataFrame do Pandas\n",
    "    dados = response.json()\n",
    "    df_amazon = pd.DataFrame(dados['results'])\n",
    "    \n",
    "    # Imprima o DataFrame\n",
    "    print(df_amazon)\n",
    "else:\n",
    "    print(f\"Erro na solicitação: {response.status_code}\")\n"
   ]
  },
  {
   "cell_type": "markdown",
   "metadata": {},
   "source": [
    "### **Coletar dados Alphabet e salvar em DataFrame**"
   ]
  },
  {
   "cell_type": "code",
   "execution_count": null,
   "metadata": {},
   "outputs": [],
   "source": [
    "import requests\n",
    "import pandas as pd\n",
    "from datetime import datetime, timedelta\n",
    "\n",
    "# Defina a chave de API e o símbolo da ação (Alphabet - GOOGL ou GOOG)\n",
    "symbol = \"GOOGL\"  # ou \"GOOG\"\n",
    "\n",
    "# Defina o intervalo de datas para 01/01/2022 a 31/12/2023\n",
    "start_date = \"2022-01-01\"\n",
    "end_date = \"2023-12-31\"\n",
    "\n",
    "# Construa a URL com os parâmetros\n",
    "base_url = \"https://api.polygon.io/v2/aggs/ticker\"\n",
    "url = f\"{base_url}/{symbol}/range/1/day/{start_date}/{end_date}?apiKey={api_key}\"\n",
    "\n",
    "# Faça a solicitação GET para obter os dados\n",
    "response = requests.get(url)\n",
    "\n",
    "# Verifique se a solicitação foi bem-sucedida (código de status 200)\n",
    "if response.status_code == 200:\n",
    "    # Converta os dados em um DataFrame do Pandas\n",
    "    dados = response.json()\n",
    "    df_alphabet = pd.DataFrame(dados['results'])\n",
    "    \n",
    "    # Imprima o DataFrame\n",
    "    print(df_alphabet)\n",
    "else:\n",
    "    print(f\"Erro na solicitação: {response.status_code}\")\n"
   ]
  },
  {
   "cell_type": "markdown",
   "metadata": {},
   "source": [
    "### **Coletar dados Cisco e salvar em DataFrame**"
   ]
  },
  {
   "cell_type": "code",
   "execution_count": null,
   "metadata": {},
   "outputs": [],
   "source": [
    "import requests\n",
    "import pandas as pd\n",
    "\n",
    "# Defina a chave de API e o símbolo da ação (Cisco - CSCO)\n",
    "api_key = \"rFQdpMu1T4CtCzjdoMJmIpejoCiATV7A\"\n",
    "symbol = \"CSCO\"\n",
    "\n",
    "# Defina o intervalo de datas para 01/01/2022 a 31/12/2023\n",
    "start_date = \"2022-01-01\"\n",
    "end_date = \"2023-12-31\"\n",
    "\n",
    "# Construa a URL com os parâmetros\n",
    "base_url = \"https://api.polygon.io/v2/aggs/ticker\"\n",
    "url = f\"{base_url}/{symbol}/range/1/day/{start_date}/{end_date}?apiKey={api_key}\"\n",
    "\n",
    "# Faça a solicitação GET para obter os dados\n",
    "response = requests.get(url)\n",
    "\n",
    "# Verifique se a solicitação foi bem-sucedida (código de status 200)\n",
    "if response.status_code == 200:\n",
    "    # Converta os dados em um DataFrame do Pandas\n",
    "    dados = response.json()\n",
    "    df_cisco = pd.DataFrame(dados['results'])\n",
    "    \n",
    "    # Imprima o DataFrame\n",
    "    print(df_cisco)\n",
    "else:\n",
    "    print(f\"Erro na solicitação: {response.status_code}\")\n"
   ]
  },
  {
   "cell_type": "markdown",
   "metadata": {},
   "source": [
    "### **Exportar DataFrames para CSV**"
   ]
  },
  {
   "cell_type": "code",
   "execution_count": null,
   "metadata": {},
   "outputs": [],
   "source": [
    "# Especifique o nome do arquivo CSV\n",
    "Aplle = 'Apple.csv'\n",
    "Microsoft = 'Microsoft.csv'\n",
    "Amazon = 'Amazon.csv'\n",
    "Alphabet = 'Alphabet.csv'\n",
    "Cisco = 'Cisco.csv'\n",
    "\n",
    "# Exporte o DataFrame para o arquivo CSV\n",
    "df_apple.to_csv(Aplle, index=False)\n",
    "df_microsoft.to_csv(Microsoft, index=False)\n",
    "df_amazon.to_csv(Amazon, index=False)\n",
    "df_alphabet.to_csv(Alphabet, index=False)\n",
    "df_cisco.to_csv(Cisco, index=False)\n",
    "\n",
    "# Imprima mensagem de confirmação\n",
    "print(\"DataFrames exportados para CSV com sucesso.\")"
   ]
  },
  {
   "cell_type": "markdown",
   "metadata": {},
   "source": [
    "### **Converter TimeSpamp para Data**"
   ]
  },
  {
   "cell_type": "code",
   "execution_count": null,
   "metadata": {},
   "outputs": [],
   "source": [
    "# Converter a coluna 't' para uma representação de data\n",
    "df['t'] = df['t'].apply(lambda x: datetime.utcfromtimestamp(x / 1000.0))\n",
    "\n",
    "# Imprimir o DataFrame com a coluna 't' convertida\n",
    "print(df)\n"
   ]
  }
 ],
 "metadata": {
  "kernelspec": {
   "display_name": "Python 3",
   "language": "python",
   "name": "python3"
  },
  "language_info": {
   "codemirror_mode": {
    "name": "ipython",
    "version": 3
   },
   "file_extension": ".py",
   "mimetype": "text/x-python",
   "name": "python",
   "nbconvert_exporter": "python",
   "pygments_lexer": "ipython3",
   "version": "3.12.0"
  }
 },
 "nbformat": 4,
 "nbformat_minor": 2
}
