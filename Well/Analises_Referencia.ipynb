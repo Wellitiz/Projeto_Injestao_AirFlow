{
 "cells": [
  {
   "cell_type": "markdown",
   "metadata": {},
   "source": [
    "### **Descrição Estatística Geral:**\n",
    "\n",
    "Use o método describe() para obter estatísticas descritivas básicas de todas as colunas numéricas em seu DataFrame.\n",
    "O código fornece uma visão geral estatística das colunas numéricas do DataFrame, ajudando a entender a distribuição e as características dos dados."
   ]
  },
  {
   "cell_type": "code",
   "execution_count": null,
   "metadata": {},
   "outputs": [],
   "source": [
    "import pandas as pd\n",
    "\n",
    "# Supondo que df seja o seu DataFrame\n",
    "descricao_estatistica = df.describe()\n",
    "print(descricao_estatistica)"
   ]
  },
  {
   "cell_type": "markdown",
   "metadata": {},
   "source": [
    "### **Correlação entre Colunas:**\n",
    "\n",
    "Calcule a matriz de correlação para entender a relação entre as diferentes colunas numéricas.\n",
    "O cálculo da matriz de correlação é uma ferramenta fundamental na análise exploratória de dados. Ela ajuda a identificar padrões de associação ou dependência linear entre diferentes variáveis em um conjunto de dados."
   ]
  },
  {
   "cell_type": "code",
   "execution_count": null,
   "metadata": {},
   "outputs": [],
   "source": [
    "correlacao = df.corr()\n",
    "print(correlacao)"
   ]
  },
  {
   "cell_type": "markdown",
   "metadata": {},
   "source": [
    "### **Histograma:**\n",
    "\n",
    "Visualize a distribuição de uma coluna específica usando um histograma.\n",
    "Esse código serve para visualizar a distribuição dos valores em uma coluna específica, oferecendo insights sobre a concentração e dispersão dos dados."
   ]
  },
  {
   "cell_type": "code",
   "execution_count": null,
   "metadata": {},
   "outputs": [],
   "source": [
    "import matplotlib.pyplot as plt\n",
    "\n",
    "# Substitua 'coluna' pelo nome da coluna que você deseja analisar\n",
    "df['coluna'].hist()\n",
    "plt.show()"
   ]
  },
  {
   "cell_type": "markdown",
   "metadata": {},
   "source": [
    "### **Boxplot:**\n",
    "\n",
    "Identifique a presença de outliers usando um boxplot.\n",
    "O código serve para visualizar a dispersão e a tendência central dos dados, bem como identificar possíveis valores atípicos (outliers) na coluna especificada."
   ]
  },
  {
   "cell_type": "code",
   "execution_count": null,
   "metadata": {},
   "outputs": [],
   "source": [
    "# Substitua 'coluna' pelo nome da coluna que você deseja analisar\n",
    "df.boxplot(column='coluna')\n",
    "plt.show()"
   ]
  },
  {
   "cell_type": "markdown",
   "metadata": {},
   "source": [
    "### **Agrupamento e Estatísticas por Grupo:**\n",
    "\n",
    "Agrupe dados com base em uma coluna e calcule estatísticas para cada grupo.\n",
    "O código serve para analisar a tendência central (média), a dispersão (desvio padrão) e a quantidade de observações em grupos distintos definidos por uma coluna de agrupamento."
   ]
  },
  {
   "cell_type": "code",
   "execution_count": null,
   "metadata": {},
   "outputs": [],
   "source": [
    "# Substitua 'coluna_grupo' pelo nome da coluna usada para agrupamento\n",
    "estatisticas_por_grupo = df.groupby('coluna_grupo').agg({'coluna_numérica': ['mean', 'std', 'count']})\n",
    "print(estatisticas_por_grupo)"
   ]
  },
  {
   "cell_type": "markdown",
   "metadata": {},
   "source": [
    "### **Média Móvel Simples (SMA):**\n",
    "O código serve para suavizar as flutuações nos preços de fechamento ao longo do tempo, fornecendo uma média móvel que destaca tendências e padrões mais facilmente."
   ]
  },
  {
   "cell_type": "code",
   "execution_count": null,
   "metadata": {},
   "outputs": [],
   "source": [
    "import pandas as pd\n",
    "\n",
    "# Substitua 'df' pelo nome real do seu DataFrame\n",
    "# Substitua 'c' pelo nome real da coluna de preços de fechamento\n",
    "# Substitua 'window_size' pelo tamanho da janela desejada\n",
    "\n",
    "window_size = 10  # Exemplo, ajuste conforme necessário\n",
    "\n",
    "# Calcular a Média Móvel Simples (SMA)\n",
    "df['SMA'] = df['c'].rolling(window=window_size).mean()\n",
    "\n",
    "# Exibir o DataFrame com a SMA calculada\n",
    "print(df)\n"
   ]
  },
  {
   "cell_type": "markdown",
   "metadata": {},
   "source": [
    "### **Média Móvel Exponencial (EMA):**\n",
    "O código serve para suavizar as flutuações nos preços de fechamento ao longo do tempo, dando mais peso aos valores mais recentes. A EMA é útil para destacar rapidamente as tendências mais recentes em séries temporais"
   ]
  },
  {
   "cell_type": "code",
   "execution_count": null,
   "metadata": {},
   "outputs": [],
   "source": [
    "import pandas as pd\n",
    "\n",
    "# Substitua 'df' pelo nome real do seu DataFrame\n",
    "# Substitua 'c' pelo nome real da coluna de preços de fechamento\n",
    "# Substitua 'alpha' pelo fator de suavização desejado (0 < alpha < 1)\n",
    "\n",
    "alpha = 0.2  # Exemplo, ajuste conforme necessário\n",
    "\n",
    "# Calcular a Média Móvel Exponencial (EMA)\n",
    "df['EMA'] = df['c'].ewm(alpha=alpha, adjust=False).mean()\n",
    "\n",
    "# Exibir o DataFrame com a EMA calculada\n",
    "print(df)\n"
   ]
  },
  {
   "cell_type": "markdown",
   "metadata": {},
   "source": [
    "### **Diferença por Período:**\n",
    "O código serve para analisar as mudanças nos preços de fechamento ao longo do tempo, destacando as diferenças anuais, trimestrais e mensais."
   ]
  },
  {
   "cell_type": "code",
   "execution_count": null,
   "metadata": {},
   "outputs": [],
   "source": [
    "# Diferença por ano\n",
    "diferenca_por_ano = df.groupby(df['t'].dt.year)['c'].diff()\n",
    "\n",
    "# Diferença por trimestre\n",
    "diferenca_por_trimestre = df.groupby(df['t'].dt.to_period(\"Q\"))['c'].diff()\n",
    "\n",
    "# Diferença por mês\n",
    "diferenca_por_mes = df.groupby(df['t'].dt.to_period(\"M\"))['c'].diff()\n"
   ]
  },
  {
   "cell_type": "markdown",
   "metadata": {},
   "source": [
    "### **Médias Móveis:**\n",
    "O código serve para suavizar flutuações nos preços de fechamento ao longo do tempo, proporcionando uma visão mais clara das tendências de médio prazo. Essa técnica é frequentemente utilizada em análise de séries temporais para destacar padrões e facilitar a identificação de tendências em diferentes escalas temporais."
   ]
  },
  {
   "cell_type": "code",
   "execution_count": null,
   "metadata": {},
   "outputs": [],
   "source": [
    "# Médias móveis por ano\n",
    "media_movel_por_ano = df.groupby(df['t'].dt.year)['c'].rolling(window=your_window_size).mean()\n",
    "\n",
    "# Médias móveis por trimestre\n",
    "media_movel_por_trimestre = df.groupby(df['t'].dt.to_period(\"Q\"))['c'].rolling(window=your_window_size).mean()\n",
    "\n",
    "# Médias móveis por mês\n",
    "media_movel_por_mes = df.groupby(df['t'].dt.to_period(\"M\"))['c'].rolling(window=your_window_size).mean()\n"
   ]
  },
  {
   "cell_type": "markdown",
   "metadata": {},
   "source": [
    "### **RSI (Relative Strength Index):**\n",
    "Implementar o RSI envolve vários passos. Aqui está um exemplo de cálculo para um período específico:\n",
    "O código serve para calcular o RSI, que é uma ferramenta comumente utilizada para identificar condições de sobrecompra ou sobrevenda em um ativo financeiro. Ele auxilia na tomada de decisões de investimento ao sinalizar potenciais pontos de reversão de tendência com base nas oscilações recentes dos preços."
   ]
  },
  {
   "cell_type": "code",
   "execution_count": null,
   "metadata": {},
   "outputs": [],
   "source": [
    "# Substitua 'your_window_size' pelo tamanho da janela para o cálculo\n",
    "delta = df['c'].diff()\n",
    "gain = delta.where(delta > 0, 0)\n",
    "loss = -delta.where(delta < 0, 0)\n",
    "\n",
    "average_gain = gain.rolling(window=your_window_size).mean()\n",
    "average_loss = loss.rolling(window=your_window_size).mean()\n",
    "\n",
    "relative_strength = average_gain / average_loss\n",
    "rsi = 100 - (100 / (1 + relative_strength))\n"
   ]
  },
  {
   "cell_type": "markdown",
   "metadata": {},
   "source": [
    "### **Bandas de Bollinger:**\n",
    "O código serve para calcular as Bandas de Bollinger, que consistem em uma média móvel simples (SMA) e duas linhas (superior e inferior) que representam um intervalo definido pela multiplicação do desvio padrão dos preços de fechamento pelo parâmetro your_std_multiplier. As Bandas de Bollinger são frequentemente utilizadas para identificar condições de sobrecompra ou sobrevenda e para auxiliar na identificação de potenciais pontos de inflexão nos preços."
   ]
  },
  {
   "cell_type": "code",
   "execution_count": null,
   "metadata": {},
   "outputs": [],
   "source": [
    "# Substitua 'your_window_size' e 'your_std_multiplier' pelos parâmetros desejados\n",
    "df['sma'] = df['c'].rolling(window=your_window_size).mean()\n",
    "df['upper_band'] = df['sma'] + your_std_multiplier * df['c'].rolling(window=your_window_size).std()\n",
    "df['lower_band'] = df['sma'] - your_std_multiplier * df['c'].rolling(window=your_window_size).std()\n"
   ]
  },
  {
   "cell_type": "markdown",
   "metadata": {},
   "source": [
    "### **Desempenho Econômico:**\n",
    "O código serve para resumir e analisar o desempenho médio de dados econômicos ao longo do tempo, proporcionando uma visão agrupada por ano, trimestre e mês. Isso é útil para identificar padrões sazonais ou tendências no desempenho econômico em relação às ações."
   ]
  },
  {
   "cell_type": "code",
   "execution_count": null,
   "metadata": {},
   "outputs": [],
   "source": [
    "# Supondo que 'econ_data' seja uma coluna em seu DataFrame com dados econômicos relacionados às ações\n",
    "desempenho_economico_por_ano = df.groupby(df['t'].dt.year)['econ_data'].mean()\n",
    "desempenho_economico_por_trimestre = df.groupby(df['t'].dt.to_period(\"Q\"))['econ_data'].mean()\n",
    "desempenho_economico_por_mes = df.groupby(df['t'].dt.to_period(\"M\"))['econ_data'].mean()\n"
   ]
  }
 ],
 "metadata": {
  "language_info": {
   "name": "python"
  }
 },
 "nbformat": 4,
 "nbformat_minor": 2
}
